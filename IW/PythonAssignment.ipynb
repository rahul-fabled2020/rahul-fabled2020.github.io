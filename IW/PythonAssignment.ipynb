{
 "cells": [
  {
   "cell_type": "code",
   "execution_count": 6,
   "metadata": {},
   "outputs": [
    {
     "name": "stdout",
     "output_type": "stream",
     "text": [
      "Enter any sentence: google.com\n",
      "{'g': 2, 'o': 3, 'l': 1, 'e': 1, '.': 1, 'c': 1, 'm': 1}\n"
     ]
    }
   ],
   "source": [
    "#Count the number of characters\n",
    "sentence = input(\"Enter any sentence: \")\n",
    "def count_characters(sentence):\n",
    "    characters = {}\n",
    "    for c in sentence:\n",
    "        if c in characters:\n",
    "            characters[c]+=1\n",
    "        else:\n",
    "            characters[c]=1\n",
    "    return characters\n",
    "print(count_characters(sentence))"
   ]
  },
  {
   "cell_type": "code",
   "execution_count": 12,
   "metadata": {},
   "outputs": [
    {
     "name": "stdout",
     "output_type": "stream",
     "text": [
      "Enter any sentencePython\n",
      "Pyon\n"
     ]
    }
   ],
   "source": [
    "# Write a program to get string made of first two characters and last two characters\n",
    "def first_last(s,c=2):\n",
    "    if len(s)<2:\n",
    "        return \"\"\n",
    "    new_s = s[:c]+s[-c:]\n",
    "    return new_s\n",
    "s = input(\"Enter any sentence \")\n",
    "print(first_last(s))"
   ]
  },
  {
   "cell_type": "code",
   "execution_count": 16,
   "metadata": {},
   "outputs": [
    {
     "name": "stdout",
     "output_type": "stream",
     "text": [
      "Enter any sentence: restart\n",
      "resta$t\n"
     ]
    }
   ],
   "source": [
    "#Replace other occurence of first character by $\n",
    "def replace_all_but_first(s,replace_by='$'):\n",
    "    first=s[0]\n",
    "    new_s = first\n",
    "    for c in s[1:]:\n",
    "        if c==first:\n",
    "            new_s+=replace_by\n",
    "        else:\n",
    "            new_s+=c\n",
    "    return new_s\n",
    "sentence = input(\"Enter any sentence: \")\n",
    "print(replace_all_but_first(sentence))"
   ]
  },
  {
   "cell_type": "code",
   "execution_count": 17,
   "metadata": {},
   "outputs": [
    {
     "name": "stdout",
     "output_type": "stream",
     "text": [
      "Enter first string: abc\n",
      "Enter second string: xyz\n",
      "xyc abxy\n"
     ]
    }
   ],
   "source": [
    "#Swap first_two characters of two given strings\n",
    "def swap_characters(s1,s2, l=2):\n",
    "    if len(s1) < l or len(s2) < l:\n",
    "        return \"\"\n",
    "    return s2[:2]+s1[2:]+\" \"+s1[:2]+s2[:2]\n",
    "s1 = input(\"Enter first string: \")\n",
    "s2 = input(\"Enter second string: \")\n",
    "print(swap_characters(s1,s2))"
   ]
  },
  {
   "cell_type": "code",
   "execution_count": 19,
   "metadata": {},
   "outputs": [
    {
     "name": "stdout",
     "output_type": "stream",
     "text": [
      "stringly\n",
      "iceing\n",
      "abcing\n"
     ]
    }
   ],
   "source": [
    "# ing and ly for string length greater than 3\n",
    "def add_ing(s):\n",
    "    if(len(s)<3):\n",
    "        return s\n",
    "    if s[-3:]==\"ing\":\n",
    "        return s+\"ly\"\n",
    "    else:\n",
    "        return s+\"ing\"\n",
    "print(add_ing(\"string\"))\n",
    "print(add_ing(\"ice\"))\n",
    "print(add_ing(\"abc\"))"
   ]
  },
  {
   "cell_type": "code",
   "execution_count": 24,
   "metadata": {},
   "outputs": [
    {
     "name": "stdout",
     "output_type": "stream",
     "text": [
      "The lyrics is good!\n",
      "The lyrics is poor!\n"
     ]
    }
   ],
   "source": [
    "# find not and poor and replace not ... poor with good\n",
    "def make_positive(s,word=\"poor\",replace=\"good\"):\n",
    "    not_index = s.find(\"not\")\n",
    "    word_index = s.find(word)\n",
    "#     print(not_index)\n",
    "#     print(word_index)\n",
    "    if not_index == -1 or word_index == -1 or not_index>word_index:\n",
    "        return s\n",
    "    if not_index < word_index:\n",
    "        return s[:not_index]+replace+s[word_index+len(replace):]\n",
    "print(make_positive(\"The lyrics is not that poor!\"))\n",
    "print(make_positive(\"The lyrics is poor!\"))"
   ]
  },
  {
   "cell_type": "code",
   "execution_count": 27,
   "metadata": {},
   "outputs": [
    {
     "name": "stdout",
     "output_type": "stream",
     "text": [
      "11\n"
     ]
    }
   ],
   "source": [
    "#Length of the longest word\n",
    "def longest_word_length(word_list):\n",
    "    if len(word_list) == 0:\n",
    "        return 0\n",
    "    length = len(word_list[0])\n",
    "    for word in word_list:\n",
    "        l = len(word)\n",
    "        if length < l:\n",
    "            length = l\n",
    "    return length\n",
    "words= [\"Apple\", \"Mango\", \"Cauliflower\"]\n",
    "print(longest_word_length(words))"
   ]
  },
  {
   "cell_type": "code",
   "execution_count": 29,
   "metadata": {},
   "outputs": [
    {
     "name": "stdout",
     "output_type": "stream",
     "text": [
      "oerH\n",
      "nA\n",
      "A\n",
      "eye\n"
     ]
    }
   ],
   "source": [
    "#Exchange first and last characters\n",
    "def exchange_first_last(s):\n",
    "    if len(s)<2:\n",
    "        return s\n",
    "    if len(s)==2:\n",
    "        middle=\"\"\n",
    "    else:\n",
    "        middle=s[1:-1]\n",
    "    return s[-1]+middle+s[0]\n",
    "print(exchange_first_last(\"Hero\"))\n",
    "print(exchange_first_last(\"An\"))\n",
    "print(exchange_first_last(\"A\"))\n",
    "print(exchange_first_last(\"eye\"))"
   ]
  },
  {
   "cell_type": "code",
   "execution_count": 32,
   "metadata": {},
   "outputs": [
    {
     "name": "stdout",
     "output_type": "stream",
     "text": [
      "Hlo\n"
     ]
    }
   ],
   "source": [
    "#Remove odd index characters\n",
    "def remove_odd_index(s):\n",
    "    new_s = \"\"\n",
    "    for i in range(len(s)):\n",
    "        if i%2==0:\n",
    "            new_s+=s[i]\n",
    "    return new_s\n",
    "print(remove_odd_index(\"Hello\"))"
   ]
  },
  {
   "cell_type": "code",
   "execution_count": 15,
   "metadata": {},
   "outputs": [
    {
     "data": {
      "text/plain": [
       "{'what': 1,\n",
       " 'can': 1,\n",
       " 'i': 1,\n",
       " 'do': 3,\n",
       " 'for': 1,\n",
       " 'you': 2,\n",
       " 'sir': 3,\n",
       " 'please': 1,\n",
       " 'help': 1,\n",
       " 'me': 1,\n",
       " 'the': 1,\n",
       " 'stuff': 1,\n",
       " 'will': 1,\n",
       " 'it': 1}"
      ]
     },
     "execution_count": 15,
     "metadata": {},
     "output_type": "execute_result"
    }
   ],
   "source": [
    "#Occurence of each word\n",
    "def occurence_of_words(s):\n",
    "    def normalize_sentence(s):\n",
    "        punctuations = [\".\", \",\", \"!\", \"'\", \"?\"]\n",
    "        s=s.lower()\n",
    "        for symbol in punctuations:\n",
    "            s=s.replace(symbol, \"\")\n",
    "        return s.split()\n",
    "    \n",
    "    words = normalize_sentence(s)\n",
    "    words_count = {}\n",
    "    for word in words:\n",
    "        if word in words_count:\n",
    "            words_count[word]+=1\n",
    "        else:\n",
    "            words_count[word]=1\n",
    "    return words_count\n",
    "\n",
    "occurence_of_words(\"What can I do for you sir? Sir, please help me do the stuff. Will you do it sir?\")        "
   ]
  },
  {
   "cell_type": "code",
   "execution_count": 16,
   "metadata": {},
   "outputs": [
    {
     "name": "stdout",
     "output_type": "stream",
     "text": [
      "Enter any sentence: Hey, what's up?\n",
      "In uppercase:  HEY, WHAT'S UP?\n",
      "In lowercase:  hey, what's up?\n"
     ]
    }
   ],
   "source": [
    "s = input(\"Enter any sentence: \")\n",
    "print(\"In uppercase: \",s.upper())\n",
    "print(\"In lowercase: \",s.lower())"
   ]
  },
  {
   "cell_type": "code",
   "execution_count": 23,
   "metadata": {},
   "outputs": [
    {
     "name": "stdout",
     "output_type": "stream",
     "text": [
      "Enter a list of words separated by commas:\n",
      "apple, mango, banana, apple\n",
      "['apple', 'mango', 'banana', 'apple']\n",
      "['banana', 'mango', 'apple']\n",
      "['apple', 'banana', 'mango']\n"
     ]
    }
   ],
   "source": [
    "s = input(\"Enter a list of words separated by commas:\\n\")\n",
    "words = s.replace(\" \",\"\").split(\",\")\n",
    "print(words)\n",
    "unique_words = list(set(words))\n",
    "print(unique_words)\n",
    "unique_words.sort()\n",
    "print(unique_words)"
   ]
  },
  {
   "cell_type": "code",
   "execution_count": 29,
   "metadata": {},
   "outputs": [
    {
     "name": "stdout",
     "output_type": "stream",
     "text": [
      "<i>Rahul</i>\n",
      "<b>Sharma</b>\n"
     ]
    }
   ],
   "source": [
    "def to_HTML_tag(tag, s):\n",
    "    return '<'+tag+'>'+s+'</'+tag+'>'\n",
    "print(to_HTML_tag('i','Rahul'))\n",
    "print(to_HTML_tag('b', 'Sharma'))"
   ]
  },
  {
   "cell_type": "code",
   "execution_count": 31,
   "metadata": {},
   "outputs": [
    {
     "name": "stdout",
     "output_type": "stream",
     "text": [
      "(({{Python}}))\n"
     ]
    }
   ],
   "source": [
    "#String  in the middle of the string\n",
    "def insert_string_middle(target, to_insert):\n",
    "    middle_index = len(target)//2\n",
    "    return target[:middle_index]+to_insert+target[middle_index:]\n",
    "print(insert_string_middle('(({{}}))', 'Python'))"
   ]
  },
  {
   "cell_type": "code",
   "execution_count": 33,
   "metadata": {},
   "outputs": [
    {
     "name": "stdout",
     "output_type": "stream",
     "text": [
      "45\n"
     ]
    }
   ],
   "source": [
    "def sum_list_items(number_list):\n",
    "    sum = 0\n",
    "    for number in number_list:\n",
    "        sum+=number\n",
    "    return sum\n",
    "print(sum_list_items([1,2,3,4,5,6,7,8,9]))"
   ]
  },
  {
   "cell_type": "code",
   "execution_count": 37,
   "metadata": {},
   "outputs": [
    {
     "name": "stdout",
     "output_type": "stream",
     "text": [
      "120\n"
     ]
    }
   ],
   "source": [
    "def multiply_list_items(number_list):\n",
    "    product = 1\n",
    "    for number in number_list:\n",
    "        product*=number\n",
    "    return product\n",
    "print(multiply_list_items([1,2,3,4,5]))"
   ]
  },
  {
   "cell_type": "code",
   "execution_count": 38,
   "metadata": {},
   "outputs": [
    {
     "name": "stdout",
     "output_type": "stream",
     "text": [
      "9\n"
     ]
    }
   ],
   "source": [
    "def find_largest(number_list):\n",
    "    largest = number_list[0]\n",
    "    for number in number_list[1:]:\n",
    "        if largest < number:\n",
    "            largest = number\n",
    "    return largest\n",
    "print(find_largest([1,2,3,9,4,0]))"
   ]
  },
  {
   "cell_type": "code",
   "execution_count": 39,
   "metadata": {},
   "outputs": [
    {
     "name": "stdout",
     "output_type": "stream",
     "text": [
      "0\n"
     ]
    }
   ],
   "source": [
    "def find_smallest(number_list):\n",
    "    smallest = number_list[0]\n",
    "    for number in number_list[1:]:\n",
    "        if smallest > number:\n",
    "            smallest = number\n",
    "    return smallest\n",
    "print(find_smallest([1,2,3,9,4,0]))"
   ]
  },
  {
   "cell_type": "code",
   "execution_count": 41,
   "metadata": {},
   "outputs": [
    {
     "name": "stdout",
     "output_type": "stream",
     "text": [
      "2\n"
     ]
    }
   ],
   "source": [
    "def count_words(word_list):\n",
    "    #count the number of strings where the string length is 2 or more and the first and last character are same from a given list of strings\n",
    "    count = 0\n",
    "    for word in word_list:\n",
    "        if len(word)>=2:\n",
    "            if(word[0]==word[-1]):\n",
    "                count+=1\n",
    "    return count\n",
    "print(count_words(['abc','xyz','aba','1221']))"
   ]
  },
  {
   "cell_type": "code",
   "execution_count": 47,
   "metadata": {},
   "outputs": [
    {
     "name": "stdout",
     "output_type": "stream",
     "text": [
      "[(2, 1), (1, 2), (2, 3), (4, 4), (2, 5)]\n"
     ]
    }
   ],
   "source": [
    "t = [(2, 5), (1, 2), (4, 4), (2, 3), (2, 1)]\n",
    "t.sort(key = lambda a: a[1])\n",
    "print(t)"
   ]
  },
  {
   "cell_type": "code",
   "execution_count": 48,
   "metadata": {},
   "outputs": [
    {
     "name": "stdout",
     "output_type": "stream",
     "text": [
      "[1, 4, 2, 5, 6, 3]\n"
     ]
    }
   ],
   "source": [
    "def remove_duplicates(l):\n",
    "    item_list = []\n",
    "    for item in l:\n",
    "        if item not in item_list:\n",
    "            item_list.append(item)\n",
    "    return item_list\n",
    "print(remove_duplicates([1,1,4,2,1,5,6,3]))"
   ]
  },
  {
   "cell_type": "code",
   "execution_count": 50,
   "metadata": {},
   "outputs": [
    {
     "name": "stdout",
     "output_type": "stream",
     "text": [
      "True\n",
      "False\n"
     ]
    }
   ],
   "source": [
    "def is_list_empty(l):\n",
    "    if l:\n",
    "        return False\n",
    "    else:\n",
    "        return True\n",
    "print(is_list_empty([]))\n",
    "print(is_list_empty([1,2,3]))"
   ]
  },
  {
   "cell_type": "code",
   "execution_count": 52,
   "metadata": {},
   "outputs": [
    {
     "name": "stdout",
     "output_type": "stream",
     "text": [
      "[1, 2, 3, 4]\n",
      "[5, 2, 3, 4]\n"
     ]
    }
   ],
   "source": [
    "def clone_list(l):\n",
    "    list_clone = [x for x in l]\n",
    "    return list_clone\n",
    "l = [1,2,3,4]\n",
    "copy_l = clone_list(l)\n",
    "copy_l[0] = 5\n",
    "print(l)\n",
    "print(copy_l)"
   ]
  },
  {
   "cell_type": "code",
   "execution_count": 59,
   "metadata": {},
   "outputs": [
    {
     "name": "stdout",
     "output_type": "stream",
     "text": [
      "True\n",
      "False\n"
     ]
    }
   ],
   "source": [
    "def is_all_dict_empty(l):\n",
    "    for dictionary in l:\n",
    "        if dictionary:\n",
    "            return False\n",
    "    return True\n",
    "print(is_all_dict_empty([{},{},{}]))\n",
    "print(is_all_dict_empty([{},{},{1:0}]))\n",
    "    "
   ]
  },
  {
   "cell_type": "code",
   "execution_count": 60,
   "metadata": {},
   "outputs": [
    {
     "name": "stdout",
     "output_type": "stream",
     "text": [
      "['emp1', 'emp2', 'emp3', 'emp4']\n"
     ]
    }
   ],
   "source": [
    "#insert at the beginning of all items\n",
    "l = [1,2,3,4]\n",
    "word = 'emp'\n",
    "output = [word+str(x) for x in l]\n",
    "print(output)"
   ]
  },
  {
   "cell_type": "code",
   "execution_count": 61,
   "metadata": {},
   "outputs": [
    {
     "name": "stdout",
     "output_type": "stream",
     "text": [
      "[1, 2, 3, 4, 5, 6, 8, 9, 10]\n"
     ]
    }
   ],
   "source": [
    "#replace last item with another list\n",
    "list1 = [1,2,3,4,5,6,7]\n",
    "list2 = [8,9,10]\n",
    "list1 = list1[:-1]+list2\n",
    "print(list1)"
   ]
  },
  {
   "cell_type": "code",
   "execution_count": 62,
   "metadata": {},
   "outputs": [
    {
     "name": "stdout",
     "output_type": "stream",
     "text": [
      "{1: 20, 2: 30, 3: 40}\n"
     ]
    }
   ],
   "source": [
    "#Add a key in dictionary\n",
    "d = {1:20, 2:30}\n",
    "d[3]=40\n",
    "print(d)"
   ]
  },
  {
   "cell_type": "code",
   "execution_count": 64,
   "metadata": {},
   "outputs": [
    {
     "name": "stdout",
     "output_type": "stream",
     "text": [
      "{1: 20, 2: 30, 3: 40, 5: 50}\n"
     ]
    }
   ],
   "source": [
    "#concat two dictionaries\n",
    "d1 = {1:20, 2:30}\n",
    "d2 = {3:40, 5:50}\n",
    "for key in d2:\n",
    "    d1[key]=d2[key]\n",
    "print(d1)"
   ]
  },
  {
   "cell_type": "code",
   "execution_count": 65,
   "metadata": {},
   "outputs": [
    {
     "name": "stdout",
     "output_type": "stream",
     "text": [
      "True\n",
      "False\n"
     ]
    }
   ],
   "source": [
    "def is_key_present(d, k):\n",
    "    return k in d\n",
    "d = {1:20, 2:30, 3:40}\n",
    "print(is_key_present(d,1))\n",
    "print(is_key_present(d,5))"
   ]
  },
  {
   "cell_type": "code",
   "execution_count": 67,
   "metadata": {},
   "outputs": [
    {
     "name": "stdout",
     "output_type": "stream",
     "text": [
      "1:20\n",
      "2:30\n",
      "3:40\n"
     ]
    }
   ],
   "source": [
    "#iterate over dictionaries\n",
    "d = {1:20, 2:30, 3:40}\n",
    "for key in d:\n",
    "    print(\"{}:{}\".format(key,d[key]))"
   ]
  },
  {
   "cell_type": "code",
   "execution_count": 68,
   "metadata": {},
   "outputs": [
    {
     "name": "stdout",
     "output_type": "stream",
     "text": [
      "{1: 1, 2: 4, 3: 9, 4: 16, 5: 25}\n"
     ]
    }
   ],
   "source": [
    "n = 5\n",
    "d={}\n",
    "for i in range(1,n+1):\n",
    "    d[i]=i*i\n",
    "print(d)"
   ]
  },
  {
   "cell_type": "code",
   "execution_count": 69,
   "metadata": {},
   "outputs": [
    {
     "name": "stdout",
     "output_type": "stream",
     "text": [
      "{1: 1, 2: 4, 3: 9, 4: 16, 5: 25, 6: 36, 7: 49, 8: 64, 9: 81, 10: 100, 11: 121, 12: 144, 13: 169, 14: 196, 15: 225}\n"
     ]
    }
   ],
   "source": [
    "n = 15\n",
    "d={}\n",
    "for i in range(1,n+1):\n",
    "    d[i]=i*i\n",
    "print(d)"
   ]
  },
  {
   "cell_type": "code",
   "execution_count": 70,
   "metadata": {},
   "outputs": [
    {
     "name": "stdout",
     "output_type": "stream",
     "text": [
      "90\n"
     ]
    }
   ],
   "source": [
    "#sum items over dictionary\n",
    "d = {1:20, 2:30, 3:40}\n",
    "sum = 0\n",
    "for key in d:\n",
    "    sum += d[key]\n",
    "print(sum)"
   ]
  },
  {
   "cell_type": "code",
   "execution_count": 71,
   "metadata": {},
   "outputs": [
    {
     "name": "stdout",
     "output_type": "stream",
     "text": [
      "24000\n"
     ]
    }
   ],
   "source": [
    "#multipy items over dictionary\n",
    "d = {1:20, 2:30, 3:40}\n",
    "product = 1\n",
    "for key in d:\n",
    "    product *= d[key]\n",
    "print(product)"
   ]
  },
  {
   "cell_type": "code",
   "execution_count": 74,
   "metadata": {},
   "outputs": [
    {
     "name": "stdout",
     "output_type": "stream",
     "text": [
      "30\n",
      "{1: 20, 3: 40}\n"
     ]
    }
   ],
   "source": [
    "d = {1:20, 2:30, 3:40}\n",
    "key = 2\n",
    "item = d.pop(key)\n",
    "print(item)\n",
    "print(d)"
   ]
  },
  {
   "cell_type": "code",
   "execution_count": 75,
   "metadata": {},
   "outputs": [
    {
     "name": "stdout",
     "output_type": "stream",
     "text": [
      "1 2 3\n"
     ]
    }
   ],
   "source": [
    "#unpacking tuples\n",
    "a, b, c = (1,2,3)\n",
    "print(a,b,c)"
   ]
  },
  {
   "cell_type": "code",
   "execution_count": 84,
   "metadata": {},
   "outputs": [
    {
     "name": "stdout",
     "output_type": "stream",
     "text": [
      "(1, 2, 3)\n",
      "(1, 2, 3, 4)\n"
     ]
    }
   ],
   "source": [
    "#adding item in a tuple\n",
    "t = (1,2,3)\n",
    "new_list = list(t)\n",
    "new_list.append(4)\n",
    "new_t = tuple(new_list)\n",
    "print(t)\n",
    "print(new_t)"
   ]
  },
  {
   "cell_type": "code",
   "execution_count": 86,
   "metadata": {},
   "outputs": [
    {
     "name": "stdout",
     "output_type": "stream",
     "text": [
      "(1, 2, 3, 4) <class 'str'>\n"
     ]
    }
   ],
   "source": [
    "# tuple to string\n",
    "t = (1,2,3,4)\n",
    "s = str(t)\n",
    "print(s, type(s))"
   ]
  },
  {
   "cell_type": "code",
   "execution_count": 87,
   "metadata": {},
   "outputs": [
    {
     "name": "stdout",
     "output_type": "stream",
     "text": [
      "(1, 2, 3)\n"
     ]
    }
   ],
   "source": [
    "#list to tuple\n",
    "l = [1,2,3]\n",
    "t = tuple(l)\n",
    "print(t)"
   ]
  },
  {
   "cell_type": "code",
   "execution_count": 89,
   "metadata": {},
   "outputs": [
    {
     "name": "stdout",
     "output_type": "stream",
     "text": [
      "(1, 3)\n"
     ]
    }
   ],
   "source": [
    "#remove an item from tuple\n",
    "t = (1,2,3)\n",
    "l = list(t)\n",
    "l.remove(2)\n",
    "t = tuple(l)\n",
    "print(t)"
   ]
  },
  {
   "cell_type": "code",
   "execution_count": 90,
   "metadata": {},
   "outputs": [
    {
     "name": "stdout",
     "output_type": "stream",
     "text": [
      "(3, 4)\n"
     ]
    }
   ],
   "source": [
    "#slice a tuple\n",
    "t = (1,2,3,4)\n",
    "slice_t = t[2:]\n",
    "print(slice_t)"
   ]
  },
  {
   "cell_type": "code",
   "execution_count": 91,
   "metadata": {},
   "outputs": [
    {
     "name": "stdout",
     "output_type": "stream",
     "text": [
      "3  is found at index  2\n"
     ]
    }
   ],
   "source": [
    "#index of an item in a tuple\n",
    "t = 1,2,3,4\n",
    "item_to_find = 3\n",
    "found = False\n",
    "index = None\n",
    "for i in range(len(t)):\n",
    "    if t[i]==item_to_find:\n",
    "        found = True\n",
    "        index = i\n",
    "        break\n",
    "if(found):\n",
    "    print(item_to_find,\" is found at index \",index)"
   ]
  },
  {
   "cell_type": "code",
   "execution_count": 92,
   "metadata": {},
   "outputs": [
    {
     "name": "stdout",
     "output_type": "stream",
     "text": [
      "4\n"
     ]
    }
   ],
   "source": [
    "#length of tuple\n",
    "t = 1,2,3,4\n",
    "print(len(t))"
   ]
  },
  {
   "cell_type": "code",
   "execution_count": 93,
   "metadata": {},
   "outputs": [
    {
     "name": "stdout",
     "output_type": "stream",
     "text": [
      "4\n",
      "5\n",
      "9\n"
     ]
    }
   ],
   "source": [
    "#maximum of three numbers\n",
    "def max_of_three(a,b,c):\n",
    "    if a > b and a > c:\n",
    "        return a\n",
    "    elif b > c:\n",
    "        return b\n",
    "    else:\n",
    "        return c\n",
    "print(max_of_three(4,2,3))\n",
    "print(max_of_three(4,5,3))\n",
    "print(max_of_three(4,2,9))"
   ]
  },
  {
   "cell_type": "code",
   "execution_count": 94,
   "metadata": {},
   "outputs": [
    {
     "name": "stdout",
     "output_type": "stream",
     "text": [
      "45\n"
     ]
    }
   ],
   "source": [
    "def sum_list_items(number_list):\n",
    "    sum = 0\n",
    "    for number in number_list:\n",
    "        sum+=number\n",
    "    return sum\n",
    "print(sum_list_items([1,2,3,4,5,6,7,8,9]))"
   ]
  },
  {
   "cell_type": "code",
   "execution_count": 95,
   "metadata": {},
   "outputs": [
    {
     "name": "stdout",
     "output_type": "stream",
     "text": [
      "120\n"
     ]
    }
   ],
   "source": [
    "def multiply_list_items(number_list):\n",
    "    product = 1\n",
    "    for number in number_list:\n",
    "        product*=number\n",
    "    return product\n",
    "print(multiply_list_items([1,2,3,4,5]))"
   ]
  },
  {
   "cell_type": "code",
   "execution_count": 97,
   "metadata": {},
   "outputs": [
    {
     "name": "stdout",
     "output_type": "stream",
     "text": [
      "dlroW olleH\n"
     ]
    }
   ],
   "source": [
    "def reverse_string(s):\n",
    "    return s[::-1]\n",
    "print(reverse_string(\"Hello World\"))"
   ]
  },
  {
   "cell_type": "code",
   "execution_count": 98,
   "metadata": {},
   "outputs": [
    {
     "name": "stdout",
     "output_type": "stream",
     "text": [
      "120\n"
     ]
    }
   ],
   "source": [
    "def find_factorial(num):\n",
    "    f = 1\n",
    "    for i in range(1,num+1):\n",
    "        f *= i\n",
    "    return f\n",
    "print(find_factorial(5))"
   ]
  },
  {
   "cell_type": "code",
   "execution_count": 99,
   "metadata": {},
   "outputs": [
    {
     "name": "stdout",
     "output_type": "stream",
     "text": [
      "True\n",
      "False\n"
     ]
    }
   ],
   "source": [
    "def is_in_range(num, r):\n",
    "    if num >= r[0] and num <= r[1]:\n",
    "        return True\n",
    "    return False\n",
    "print(is_in_range(5,(1,10)))\n",
    "print(is_in_range(5,(6,10)))"
   ]
  },
  {
   "cell_type": "code",
   "execution_count": 101,
   "metadata": {},
   "outputs": [
    {
     "name": "stdout",
     "output_type": "stream",
     "text": [
      "{'lower': 8, 'upper': 2}\n"
     ]
    }
   ],
   "source": [
    "def count_letter_case(s):\n",
    "    lower = 0\n",
    "    upper = 0\n",
    "    for letter in s:\n",
    "        if letter >= 'A' and letter <= 'Z':\n",
    "            upper+=1\n",
    "        elif letter >= 'a' and letter <= 'z':\n",
    "            lower+=1\n",
    "    output = {'lower':lower,\n",
    "             'upper':upper}\n",
    "    return output\n",
    "print(count_letter_case('Hello World'))"
   ]
  },
  {
   "cell_type": "code",
   "execution_count": 102,
   "metadata": {},
   "outputs": [
    {
     "name": "stdout",
     "output_type": "stream",
     "text": [
      "[1, 2, 3, 4, 5]\n"
     ]
    }
   ],
   "source": [
    "def get_unique_list(given_list):\n",
    "    return list(set(given_list))\n",
    "print(get_unique_list([1,2,3,1,2,3,5,3,4]))"
   ]
  },
  {
   "cell_type": "code",
   "execution_count": 104,
   "metadata": {},
   "outputs": [
    {
     "name": "stdout",
     "output_type": "stream",
     "text": [
      "True\n",
      "True\n",
      "False\n",
      "True\n",
      "False\n"
     ]
    }
   ],
   "source": [
    "def is_prime(num):\n",
    "    f = 0\n",
    "    for i in range(1, num+1):\n",
    "        if num % i == 0:\n",
    "            f+=1\n",
    "    if f==2:\n",
    "        return True\n",
    "    else:\n",
    "        return False\n",
    "print(is_prime(2))\n",
    "print(is_prime(3))\n",
    "print(is_prime(4))\n",
    "print(is_prime(13))\n",
    "print(is_prime(25))"
   ]
  },
  {
   "cell_type": "code",
   "execution_count": 105,
   "metadata": {},
   "outputs": [
    {
     "name": "stdout",
     "output_type": "stream",
     "text": [
      "[2, 4]\n"
     ]
    }
   ],
   "source": [
    "def get_even_numbers(l):\n",
    "    return [x for x in l if x%2 ==0]\n",
    "print(get_even_numbers([1,2,3,4,5]))"
   ]
  },
  {
   "cell_type": "code",
   "execution_count": 108,
   "metadata": {},
   "outputs": [
    {
     "name": "stdout",
     "output_type": "stream",
     "text": [
      "25\n",
      "150\n"
     ]
    }
   ],
   "source": [
    "f1 = lambda x, y=15: x+y\n",
    "print(f1(10))\n",
    "f2 = lambda x, y: x*y\n",
    "print(f2(10,15))"
   ]
  },
  {
   "cell_type": "code",
   "execution_count": 109,
   "metadata": {},
   "outputs": [
    {
     "name": "stdout",
     "output_type": "stream",
     "text": [
      "[(2, 1), (1, 2), (2, 3), (4, 4), (2, 5)]\n"
     ]
    }
   ],
   "source": [
    "t = [(2, 5), (1, 2), (4, 4), (2, 3), (2, 1)]\n",
    "t.sort(key = lambda a: a[1])\n",
    "print(t)"
   ]
  },
  {
   "cell_type": "code",
   "execution_count": 113,
   "metadata": {},
   "outputs": [
    {
     "name": "stdout",
     "output_type": "stream",
     "text": [
      "[{1: 'Hello'}, {2: 'World'}, {3: 'of'}, {4: 'Mango'}]\n"
     ]
    }
   ],
   "source": [
    "d = [{2:\"World\"}, {4:\"Mango\"}, {1:\"Hello\"}, {3:\"of\"}]\n",
    "d.sort(key = lambda a: list(a.keys())[0])\n",
    "print(d)"
   ]
  },
  {
   "cell_type": "code",
   "execution_count": 116,
   "metadata": {},
   "outputs": [
    {
     "name": "stdout",
     "output_type": "stream",
     "text": [
      "[2, 4, 6]\n"
     ]
    }
   ],
   "source": [
    "integer_list = [1,2,3,4,5,6,7]\n",
    "new_list = list(filter(lambda x: x%2==0, integer_list))\n",
    "print(new_list)"
   ]
  },
  {
   "cell_type": "code",
   "execution_count": 117,
   "metadata": {},
   "outputs": [
    {
     "name": "stdout",
     "output_type": "stream",
     "text": [
      "[1, 4, 9, 16, 25, 36, 49] [1, 8, 27, 64, 125, 216, 343]\n"
     ]
    }
   ],
   "source": [
    "integer_list = [1,2,3,4,5,6,7]\n",
    "square = list(map(lambda x: x*x, integer_list))\n",
    "cube = list(map(lambda x: x*x*x, integer_list))\n",
    "print(square, cube)"
   ]
  },
  {
   "cell_type": "code",
   "execution_count": 118,
   "metadata": {},
   "outputs": [
    {
     "name": "stdout",
     "output_type": "stream",
     "text": [
      "True\n",
      "False\n"
     ]
    }
   ],
   "source": [
    "#starts with given character or not\n",
    "s = \"Hello Wolrd\"\n",
    "given_char = \"H\"\n",
    "given_char2 = \"W\"\n",
    "f = lambda s,given_char: s[0]==given_char\n",
    "print(f(s,given_char))\n",
    "print(f(s,given_char2))"
   ]
  },
  {
   "cell_type": "code",
   "execution_count": 125,
   "metadata": {},
   "outputs": [
    {
     "name": "stdout",
     "output_type": "stream",
     "text": [
      "False\n",
      "True\n",
      "True\n"
     ]
    }
   ],
   "source": [
    "is_num = lambda x: x.isnumeric()\n",
    "print(is_num(\"hello\"))\n",
    "print(is_num(\"123\"))\n",
    "print(is_num((\"5\")))"
   ]
  },
  {
   "cell_type": "code",
   "execution_count": 126,
   "metadata": {},
   "outputs": [
    {
     "name": "stdout",
     "output_type": "stream",
     "text": [
      "[0, 1, 1, 2, 3]\n"
     ]
    }
   ],
   "source": [
    "#fibonacci\n",
    "from functools import reduce\n",
    "f = lambda n: reduce(lambda x, _: x+[x[-1]+x[-2]], range(n-2), [0, 1])\n",
    "print(f(5))"
   ]
  },
  {
   "cell_type": "code",
   "execution_count": 128,
   "metadata": {},
   "outputs": [
    {
     "name": "stdout",
     "output_type": "stream",
     "text": [
      "[3, 4]\n"
     ]
    }
   ],
   "source": [
    "#intersection of two arrays\n",
    "f = lambda x, y : [a for a in x for b in y if a==b]\n",
    "x = [1,2,3,4]\n",
    "y= [3,4,5]\n",
    "print(f(x,y))"
   ]
  },
  {
   "cell_type": "code",
   "execution_count": null,
   "metadata": {},
   "outputs": [],
   "source": []
  }
 ],
 "metadata": {
  "kernelspec": {
   "display_name": "Python 3",
   "language": "python",
   "name": "python3"
  },
  "language_info": {
   "codemirror_mode": {
    "name": "ipython",
    "version": 3
   },
   "file_extension": ".py",
   "mimetype": "text/x-python",
   "name": "python",
   "nbconvert_exporter": "python",
   "pygments_lexer": "ipython3",
   "version": "3.7.1"
  }
 },
 "nbformat": 4,
 "nbformat_minor": 2
}
