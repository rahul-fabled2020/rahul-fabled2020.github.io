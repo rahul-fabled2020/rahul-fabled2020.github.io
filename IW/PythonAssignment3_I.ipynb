{
 "cells": [
  {
   "cell_type": "code",
   "execution_count": 3,
   "metadata": {},
   "outputs": [
    {
     "name": "stdout",
     "output_type": "stream",
     "text": [
      "[2, 3, 3, 4, 5, 5, 9, 9]\n",
      "[1, 2, 3, 4, 6, 7, 8, 9, 10]\n"
     ]
    }
   ],
   "source": [
    "#Bubble Sort\n",
    "def bubble_sort(arr):\n",
    "    for i in range(len(arr)-1):\n",
    "        for j in range(len(arr)-i-1):\n",
    "            if(arr[j] > arr[j+1]):\n",
    "                arr[j],arr[j+1] = arr[j+1], arr[j]\n",
    "    return\n",
    "arr= [4,3,2,5,9,3,5,9]\n",
    "arr2 = [9,7,8,6,4,3,2,1,10]\n",
    "bubble_sort(arr)\n",
    "bubble_sort(arr2)\n",
    "print(arr)\n",
    "print(arr2)"
   ]
  },
  {
   "cell_type": "code",
   "execution_count": 5,
   "metadata": {},
   "outputs": [
    {
     "name": "stdout",
     "output_type": "stream",
     "text": [
      "[2, 3, 3, 4, 5, 5, 9, 9]\n",
      "[1, 2, 3, 4, 6, 7, 8, 9, 10]\n"
     ]
    }
   ],
   "source": [
    "#Insertion Sort\n",
    "def insertion_sort(arr):\n",
    "    for i in range(1, len(arr)):\n",
    "        key = arr[i]\n",
    "        j = i-1\n",
    "        while j>=0 and arr[j]>key:\n",
    "            arr[j+1]=arr[j]\n",
    "            j-=1\n",
    "        arr[j+1]=key\n",
    "    return\n",
    "arr= [4,3,2,5,9,3,5,9]\n",
    "arr2 = [9,7,8,6,4,3,2,1,10]\n",
    "insertion_sort(arr)\n",
    "insertion_sort(arr2)\n",
    "print(arr)\n",
    "print(arr2)"
   ]
  },
  {
   "cell_type": "code",
   "execution_count": 15,
   "metadata": {},
   "outputs": [
    {
     "name": "stdout",
     "output_type": "stream",
     "text": [
      "[7, 8, 8, 9, 9, 10, 10]\n"
     ]
    }
   ],
   "source": [
    "#Quick Sort\n",
    "# start is the index of first element of subarray and end is the index of last element of the sub array\n",
    "def partition(arr, start, end):\n",
    "    if not arr:\n",
    "        return\n",
    "    pivot = arr[end]\n",
    "    i = start-1\n",
    "    for j in range(start, end):\n",
    "        if arr[j] <= pivot:\n",
    "            i+=1\n",
    "            arr[i], arr[j] = arr[j], arr[i]\n",
    "    arr[i+1], arr[end] = pivot, arr[i+1]\n",
    "    return i+1\n",
    "def quick_sort(arr, start, end):\n",
    "    if not start<end:\n",
    "        return\n",
    "\n",
    "    p = partition(arr, start, end)\n",
    "    quick_sort(arr,start, p-1)\n",
    "    quick_sort(arr,p+1, end)\n",
    "    return\n",
    "\n",
    "arr = [10, 9, 8, 7, 10, 9, 8]\n",
    "quick_sort(arr, 0, len(arr)-1)\n",
    "print(arr)"
   ]
  },
  {
   "cell_type": "code",
   "execution_count": 27,
   "metadata": {},
   "outputs": [
    {
     "name": "stdout",
     "output_type": "stream",
     "text": [
      "[2, 3, 5, 5, 6, 6, 7]\n"
     ]
    }
   ],
   "source": [
    "#Merge Sort\n",
    "def merge(Arr, start, mid, end) :\n",
    "\n",
    "    # create a temp array\n",
    "    temp = [0] * (end - start + 1)\n",
    "\n",
    "    # crawlers for both intervals and for temp\n",
    "    i, j, k = start, mid+1, 0\n",
    "\n",
    "    # traverse both lists and in each iteration add smaller of both elements in temp \n",
    "    while(i <= mid and j <= end) :\n",
    "        if(Arr[i] <= Arr[j]) :\n",
    "            temp[k] = Arr[i]\n",
    "            k += 1\n",
    "            i += 1\n",
    "        else :\n",
    "            temp[k] = Arr[j]\n",
    "            k += 1\n",
    "            j += 1\n",
    "\n",
    "    # add elements left in the first interval \n",
    "    while(i <= mid):\n",
    "        temp[k] = Arr[i]\n",
    "        k += 1\n",
    "        i += 1\n",
    "\n",
    "    # add elements left in the second interval \n",
    "    while(j <= end):\n",
    "        temp[k] = Arr[j]\n",
    "        k += 1\n",
    "        j += 1\n",
    "\n",
    "    # copy temp to original interval\n",
    "    for i in range(start, end+1):\n",
    "        Arr[i] = temp[i - start]\n",
    "\n",
    "\n",
    "# Arr is an array of integer type\n",
    "# start and end are the starting and ending index of current interval of Arr\n",
    "\n",
    "def mergeSort(Arr, start, end):\n",
    "\n",
    "    if(start < end) :\n",
    "        mid = (start + end) // 2\n",
    "        mergeSort(Arr, start, mid)\n",
    "        mergeSort(Arr, mid+1, end)\n",
    "        merge(Arr, start, mid, end)\n",
    "\n",
    "arr = [5,3,2,5,6,6,7]\n",
    "mergeSort(arr, 0, len(arr)-1)\n",
    "print(arr)"
   ]
  },
  {
   "cell_type": "code",
   "execution_count": 33,
   "metadata": {},
   "outputs": [
    {
     "name": "stdout",
     "output_type": "stream",
     "text": [
      "7 is Found\n",
      "8 is not found\n"
     ]
    }
   ],
   "source": [
    "#Linear Search\n",
    "def linear_search(arr, key):\n",
    "    for index in range(len(arr)):\n",
    "         if(arr[index] == key):\n",
    "                return index\n",
    "    return None\n",
    "index = linear_search([10,7,1,4,6], 7)\n",
    "if(index):\n",
    "    print(\"7 is Found\")\n",
    "else:\n",
    "    print(\"7 is not Found\")\n",
    "index = linear_search([10,7,1,4,6], 8)\n",
    "if index:\n",
    "    print(\"8 is found\")\n",
    "else:\n",
    "    print(\"8 is not found\")"
   ]
  },
  {
   "cell_type": "code",
   "execution_count": 37,
   "metadata": {},
   "outputs": [
    {
     "name": "stdout",
     "output_type": "stream",
     "text": [
      "7 is Found at index: 6\n",
      "8 is not found\n"
     ]
    }
   ],
   "source": [
    "#Binary Search\n",
    "def binary_search(arr, key):\n",
    "    start = 0\n",
    "    end = len(arr)-1\n",
    "    while(start<end):\n",
    "        mid = (start + end)//2\n",
    "        if key==arr[mid]:\n",
    "            return mid\n",
    "        elif key < arr[mid]:\n",
    "            end = mid -1\n",
    "        else:\n",
    "            start = mid +1\n",
    "    return None\n",
    "index = binary_search([1,2,3,4,5,6,7,9], 7)\n",
    "if(index):\n",
    "    print(\"7 is Found at index:\", index)\n",
    "else:\n",
    "    print(\"7 is not Found\")\n",
    "index = binary_search([1,2,3,4,5,6,7,9], 8)\n",
    "if index:\n",
    "    print(\"8 is found at index:\", index)\n",
    "else:\n",
    "    print(\"8 is not found\")"
   ]
  },
  {
   "cell_type": "code",
   "execution_count": 40,
   "metadata": {},
   "outputs": [
    {
     "name": "stdout",
     "output_type": "stream",
     "text": [
      "7 is Found at index: 6\n",
      "8 is not found\n"
     ]
    }
   ],
   "source": [
    "#Interpolation search\n",
    "def interpolation_search(arr, key):\n",
    "    start = 0\n",
    "    end = len(arr)-1\n",
    "    while(start<end):\n",
    "        pos = start + int((key - arr[start])/(arr[end]-arr[start])*(end-start))\n",
    "        if key==arr[pos]:\n",
    "            return pos\n",
    "        elif key < arr[pos]:\n",
    "            end = pos -1\n",
    "        else:\n",
    "            start = pos +1\n",
    "    return None\n",
    "index = interpolation_search([1,2,3,4,5,6,7,9], 7)\n",
    "if(index):\n",
    "    print(\"7 is Found at index:\", index)\n",
    "else:\n",
    "    print(\"7 is not Found\")\n",
    "index = interpolation_search([1,2,3,4,5,6,7,9], 8)\n",
    "if index:\n",
    "    print(\"8 is found at index:\", index)\n",
    "else:\n",
    "    print(\"8 is not found\")"
   ]
  },
  {
   "cell_type": "code",
   "execution_count": 44,
   "metadata": {},
   "outputs": [
    {
     "name": "stdout",
     "output_type": "stream",
     "text": [
      "Put disk_1 from pole A to pole C\n",
      "Put disk_2 from pole A to pole B\n",
      "Put disk_1 from pole C to pole B\n",
      "Put disk_3 from pole A to pole C\n",
      "Put disk_1 from pole B to pole A\n",
      "Put disk_2 from pole B to pole C\n",
      "Put disk_1 from pole A to pole C\n"
     ]
    }
   ],
   "source": [
    "#TOH\n",
    "def toh(num_of_disk, from_pole, to_pole, helping_pole):\n",
    "    if num_of_disk <= 1:\n",
    "        print(\"Put disk_{} from pole {} to pole {}\".format(num_of_disk, from_pole, to_pole))\n",
    "    else:\n",
    "        toh(num_of_disk-1, from_pole, helping_pole, to_pole)\n",
    "        print(\"Put disk_{} from pole {} to pole {}\".format(num_of_disk, from_pole, to_pole))\n",
    "        toh(num_of_disk-1, helping_pole, to_pole, from_pole)\n",
    "toh(3, 'A', 'C', 'B')"
   ]
  },
  {
   "cell_type": "code",
   "execution_count": null,
   "metadata": {},
   "outputs": [],
   "source": []
  }
 ],
 "metadata": {
  "kernelspec": {
   "display_name": "Python 3",
   "language": "python",
   "name": "python3"
  },
  "language_info": {
   "codemirror_mode": {
    "name": "ipython",
    "version": 3
   },
   "file_extension": ".py",
   "mimetype": "text/x-python",
   "name": "python",
   "nbconvert_exporter": "python",
   "pygments_lexer": "ipython3",
   "version": "3.7.1"
  }
 },
 "nbformat": 4,
 "nbformat_minor": 2
}
